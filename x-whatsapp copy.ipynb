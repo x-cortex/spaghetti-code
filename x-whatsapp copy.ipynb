{
    "cells": [
        {
            "cell_type": "code",
            "execution_count": 2,
            "metadata": {},
            "outputs": [],
            "source": [
                "import asyncio\n",
                "from playwright.async_api import async_playwright\n",
                "import qrcode\n",
                "from PIL import Image\n",
                "import io\n",
                "import base64\n",
                "from pyzbar import pyzbar\n",
                "import os"
            ]
        },
        {
            "cell_type": "code",
            "execution_count": 3,
            "metadata": {},
            "outputs": [],
            "source": [
                "playwright = await async_playwright().start()\n",
                "browser = await playwright.chromium.launch(headless=False)\n",
                "context = await browser.new_context()\n",
                "page = await context.new_page()"
            ]
        },
        {
            "cell_type": "code",
            "execution_count": 4,
            "metadata": {},
            "outputs": [
                {
                    "data": {
                        "text/plain": [
                            "<Response url='https://web.whatsapp.com/' request=<Request url='https://web.whatsapp.com/' method='GET'>>"
                        ]
                    },
                    "execution_count": 4,
                    "metadata": {},
                    "output_type": "execute_result"
                }
            ],
            "source": [
                "await page.goto(\"https://web.whatsapp.com\")"
            ]
        },
        {
            "cell_type": "code",
            "execution_count": 6,
            "metadata": {},
            "outputs": [
                {
                    "name": "stdout",
                    "output_type": "stream",
                    "text": [
                        "Unknown message format: ['Pappa']\n",
                        "Unknown message format: ['TASC-Deepshika Poojary']\n",
                        "Unknown message format: ['slaves of rakuten']\n",
                        "Unknown message format: ['Mom']\n",
                        "Unknown message format: ['Shaun Orwil Fernandes']\n",
                        "Unknown message format: ['Sanju Akka']\n",
                        "Unknown message format: [\"AIML BO'25\"]\n"
                    ]
                },
                {
                    "data": {
                        "text/plain": [
                            "[{'sender': 'Zih',\n",
                            "  'time': '9:30 PM',\n",
                            "  'message': 'why',\n",
                            "  'unread': False,\n",
                            "  'no_of_unread': 0,\n",
                            "  'group': False},\n",
                            " {'sender': 'SHINE FAMILY',\n",
                            "  'time': '47',\n",
                            "  'message': '',\n",
                            "  'unread': False,\n",
                            "  'no_of_unread': 0,\n",
                            "  'group': False},\n",
                            " {'sender': 'AIML Official grp 2021-25',\n",
                            "  'time': '1:39 PM',\n",
                            "  'message': '',\n",
                            "  'unread': False,\n",
                            "  'no_of_unread': 0,\n",
                            "  'group': True},\n",
                            " {'sender': 'Asheesh',\n",
                            "  'time': '3:46 PM',\n",
                            "  'message': 'If not atleast one',\n",
                            "  'unread': False,\n",
                            "  'no_of_unread': 0,\n",
                            "  'group': False},\n",
                            " {'sender': 'Dsu dev hack',\n",
                            "  'time': '5:08 PM',\n",
                            "  'message': '',\n",
                            "  'unread': False,\n",
                            "  'no_of_unread': 0,\n",
                            "  'group': True},\n",
                            " {'sender': 'PEC - I Cloud computing',\n",
                            "  'time': '7:59 PM',\n",
                            "  'message': 'https://meet.google.com/goz-xzhz-ghk (1st hour) https://meet.google.com/fqc-cfdk-duz (2nd hour)',\n",
                            "  'unread': True,\n",
                            "  'no_of_unread': 3,\n",
                            "  'group': True},\n",
                            " {'sender': 'Batch 3...',\n",
                            "  'time': '9:06 PM',\n",
                            "  'message': 'Tell yes guys',\n",
                            "  'unread': True,\n",
                            "  'no_of_unread': 2,\n",
                            "  'group': True},\n",
                            " {'sender': 'Prathwik',\n",
                            "  'time': '9:29 PM',\n",
                            "  'message': 'whenever someone send a new message \\xa0send them back a response Read any new message and print it along with the previous say 5-10 messages, and send a response',\n",
                            "  'unread': True,\n",
                            "  'no_of_unread': 1,\n",
                            "  'group': False},\n",
                            " {'sender': '+91 96064 52545',\n",
                            "  'time': '12',\n",
                            "  'message': '',\n",
                            "  'unread': False,\n",
                            "  'no_of_unread': 0,\n",
                            "  'group': False}]"
                        ]
                    },
                    "execution_count": 6,
                    "metadata": {},
                    "output_type": "execute_result"
                }
            ],
            "source": [
                "async def get_list_of_messages():\n",
                "    \"\"\"get_list_of_messages()\n",
                "\n",
                "    gets the list of messages in the page\n",
                "    \"\"\"\n",
                "    messages = await page.query_selector_all(\n",
                "        '//*[@id=\"pane-side\"]/div[2]/div/div/child::div'\n",
                "    )\n",
                "\n",
                "    clean_messages = []\n",
                "    for message in messages:\n",
                "        _message = await message.inner_text()  # Use inner_text to get the text content\n",
                "        _message = _message.split(\"\\n\")\n",
                "        if len(_message) == 2:\n",
                "            clean_messages.append(\n",
                "                {\n",
                "                    \"sender\": _message[0],\n",
                "                    \"time\": _message[1],\n",
                "                    \"message\": \"\",\n",
                "                    \"unread\": False,\n",
                "                    \"no_of_unread\": 0,\n",
                "                    \"group\": False,\n",
                "                }\n",
                "            )\n",
                "        elif len(_message) == 3:\n",
                "            clean_messages.append(\n",
                "                {\n",
                "                    \"sender\": _message[0],\n",
                "                    \"time\": _message[1],\n",
                "                    \"message\": _message[2],\n",
                "                    \"unread\": False,\n",
                "                    \"no_of_unread\": 0,\n",
                "                    \"group\": False,\n",
                "                }\n",
                "            )\n",
                "        elif len(_message) == 4:\n",
                "            clean_messages.append(\n",
                "                {\n",
                "                    \"sender\": _message[0],\n",
                "                    \"time\": _message[1],\n",
                "                    \"message\": _message[2],\n",
                "                    \"unread\": _message[-1].isdigit(),\n",
                "                    \"no_of_unread\": int(_message[-1]) if _message[-1].isdigit() else 0,\n",
                "                    \"group\": False,\n",
                "                }\n",
                "            )\n",
                "        elif len(_message) == 5:\n",
                "            clean_messages.append(\n",
                "                {\n",
                "                    \"sender\": _message[0],\n",
                "                    \"time\": _message[1],\n",
                "                    \"message\": \"\",\n",
                "                    \"unread\": _message[-1].isdigit(),\n",
                "                    \"no_of_unread\": int(_message[-1]) if _message[-1].isdigit() else 0,\n",
                "                    \"group\": True,\n",
                "                }\n",
                "            )\n",
                "        elif len(_message) == 6:\n",
                "            clean_messages.append(\n",
                "                {\n",
                "                    \"sender\": _message[0],\n",
                "                    \"time\": _message[1],\n",
                "                    \"message\": _message[4],\n",
                "                    \"unread\": _message[-1].isdigit(),\n",
                "                    \"no_of_unread\": int(_message[-1]) if _message[-1].isdigit() else 0,\n",
                "                    \"group\": True,\n",
                "                }\n",
                "            )\n",
                "        else:\n",
                "            print(f\"Unknown message format: {_message}\")\n",
                "    return clean_messages\n",
                "\n",
                "\n",
                "await get_list_of_messages()"
            ]
        },
        {
            "cell_type": "code",
            "execution_count": 24,
            "metadata": {},
            "outputs": [],
            "source": [
                "async def search_person(name: str, message: str):\n",
                "    search_input_selector = (\n",
                "        \"div[contenteditable='true'][role='textbox'][data-lexical-editor='true']\"\n",
                "    )\n",
                "    await page.wait_for_selector(search_input_selector, timeout=60000)\n",
                "    search_input = await page.query_selector(search_input_selector)\n",
                "\n",
                "    if search_input:\n",
                "        # Type the name into the search input\n",
                "        await search_input.click()\n",
                "        await search_input.type(\n",
                "            name, delay=100\n",
                "        )  # Adding a slight delay can help with typing simulation\n",
                "        await page.keyboard.press(\n",
                "            \"Enter\"\n",
                "        )  # Use page.keyboard instead of search_input.keyboard\n",
                "        # Wait for search results to load\n",
                "        await page.wait_for_timeout(2000)\n",
                "\n",
                "        # Wait for the specific search result to be visible and click on it\n",
                "        # search_result_selector = \"p.selectable-text[title='kausthubh']\"\n",
                "        # search_result = await wa.page.wait_for_selector(\n",
                "        #     search_result_selector, timeout=60000\n",
                "        # )\n",
                "\n",
                "        # if search_result:\n",
                "        #     await search_result.click()\n",
                "        #     await page.keyboard.press(\"Enter\")  # Use page.keyboard instead of search_result.press\n",
                "\n",
                "        #     print(f\"Chat with '{name}' opened.\")\n",
                "\n",
                "    await page.fill(message)  # Use the 'message' parameter instead of hardcoded text\n",
                "    await page.keyboard.press(\"Enter\")"
            ]
        },
        {
            "cell_type": "code",
            "execution_count": 26,
            "metadata": {},
            "outputs": [
                {
                    "ename": "TypeError",
                    "evalue": "Page.type() missing 1 required positional argument: 'text'",
                    "output_type": "error",
                    "traceback": [
                        "\u001b[0;31m---------------------------------------------------------------------------\u001b[0m",
                        "\u001b[0;31mTypeError\u001b[0m                                 Traceback (most recent call last)",
                        "Cell \u001b[0;32mIn[26], line 1\u001b[0m\n\u001b[0;32m----> 1\u001b[0m \u001b[38;5;28;01mawait\u001b[39;00m search_person(\u001b[38;5;124m\"\u001b[39m\u001b[38;5;124mkausthubh\u001b[39m\u001b[38;5;124m\"\u001b[39m, \u001b[38;5;124m\"\u001b[39m\u001b[38;5;124mthis is a test message pls ignore\u001b[39m\u001b[38;5;124m\"\u001b[39m)\n",
                        "Cell \u001b[0;32mIn[24], line 30\u001b[0m, in \u001b[0;36msearch_person\u001b[0;34m(name, message)\u001b[0m\n\u001b[1;32m     16\u001b[0m     \u001b[38;5;28;01mawait\u001b[39;00m page\u001b[38;5;241m.\u001b[39mwait_for_timeout(\u001b[38;5;241m2000\u001b[39m)\n\u001b[1;32m     18\u001b[0m     \u001b[38;5;66;03m# Wait for the specific search result to be visible and click on it\u001b[39;00m\n\u001b[1;32m     19\u001b[0m     \u001b[38;5;66;03m# search_result_selector = \"p.selectable-text[title='kausthubh']\"\u001b[39;00m\n\u001b[1;32m     20\u001b[0m     \u001b[38;5;66;03m# search_result = await wa.page.wait_for_selector(\u001b[39;00m\n\u001b[0;32m   (...)\u001b[0m\n\u001b[1;32m     27\u001b[0m \n\u001b[1;32m     28\u001b[0m     \u001b[38;5;66;03m#     print(f\"Chat with '{name}' opened.\")\u001b[39;00m\n\u001b[0;32m---> 30\u001b[0m \u001b[38;5;28;01mawait\u001b[39;00m page\u001b[38;5;241m.\u001b[39mtype(message)  \u001b[38;5;66;03m# Use the 'message' parameter instead of hardcoded text\u001b[39;00m\n\u001b[1;32m     31\u001b[0m \u001b[38;5;28;01mawait\u001b[39;00m page\u001b[38;5;241m.\u001b[39mkeyboard\u001b[38;5;241m.\u001b[39mpress(\u001b[38;5;124m\"\u001b[39m\u001b[38;5;124mEnter\u001b[39m\u001b[38;5;124m\"\u001b[39m)\n",
                        "\u001b[0;31mTypeError\u001b[0m: Page.type() missing 1 required positional argument: 'text'"
                    ]
                }
            ],
            "source": [
                "await search_person(\"kausthubh\", \"this is a test message pls ignore\")"
            ]
        },
        {
            "cell_type": "code",
            "execution_count": 14,
            "metadata": {},
            "outputs": [
                {
                    "ename": "TypeError",
                    "evalue": "Page.type() missing 1 required positional argument: 'text'",
                    "output_type": "error",
                    "traceback": [
                        "\u001b[0;31m---------------------------------------------------------------------------\u001b[0m",
                        "\u001b[0;31mTypeError\u001b[0m                                 Traceback (most recent call last)",
                        "Cell \u001b[0;32mIn[14], line 5\u001b[0m\n\u001b[1;32m      2\u001b[0m m \u001b[38;5;241m=\u001b[39m \u001b[38;5;28;01mawait\u001b[39;00m get_list_of_messages()\n\u001b[1;32m      4\u001b[0m \u001b[38;5;28;01mif\u001b[39;00m m[\u001b[38;5;241m0\u001b[39m][\u001b[38;5;124m\"\u001b[39m\u001b[38;5;124munread\u001b[39m\u001b[38;5;124m\"\u001b[39m] \u001b[38;5;241m==\u001b[39m \u001b[38;5;28;01mTrue\u001b[39;00m:\n\u001b[0;32m----> 5\u001b[0m     \u001b[38;5;28;01mawait\u001b[39;00m search_person(\n\u001b[1;32m      6\u001b[0m         m[\u001b[38;5;241m0\u001b[39m][\u001b[38;5;124m\"\u001b[39m\u001b[38;5;124msender\u001b[39m\u001b[38;5;124m\"\u001b[39m],\n\u001b[1;32m      7\u001b[0m         \u001b[38;5;124m\"\u001b[39m\u001b[38;5;124mThis is a test message for my hackathon project please ignore\u001b[39m\u001b[38;5;124m\"\u001b[39m,\n\u001b[1;32m      8\u001b[0m     )\n\u001b[1;32m      9\u001b[0m     \u001b[38;5;28;01mbreak\u001b[39;00m\n",
                        "Cell \u001b[0;32mIn[12], line 30\u001b[0m, in \u001b[0;36msearch_person\u001b[0;34m(name, message)\u001b[0m\n\u001b[1;32m     16\u001b[0m \u001b[38;5;28;01mawait\u001b[39;00m page\u001b[38;5;241m.\u001b[39mwait_for_timeout(\u001b[38;5;241m2000\u001b[39m)\n\u001b[1;32m     18\u001b[0m \u001b[38;5;66;03m# Wait for the specific search result to be visible and click on it\u001b[39;00m\n\u001b[1;32m     19\u001b[0m \u001b[38;5;66;03m# search_result_selector = \"p.selectable-text[title='kausthubh']\"\u001b[39;00m\n\u001b[1;32m     20\u001b[0m \u001b[38;5;66;03m# search_result = await wa.page.wait_for_selector(\u001b[39;00m\n\u001b[0;32m   (...)\u001b[0m\n\u001b[1;32m     27\u001b[0m \n\u001b[1;32m     28\u001b[0m \u001b[38;5;66;03m#     print(\"Chat with 'kausthubh' opened.\")\u001b[39;00m\n\u001b[0;32m---> 30\u001b[0m \u001b[38;5;28;01mawait\u001b[39;00m page\u001b[38;5;241m.\u001b[39mtype(\u001b[38;5;124m\"\u001b[39m\u001b[38;5;124mthis is a test message pls ignore\u001b[39m\u001b[38;5;124m\"\u001b[39m)\n\u001b[1;32m     31\u001b[0m \u001b[38;5;28;01mawait\u001b[39;00m page\u001b[38;5;241m.\u001b[39mpress(\u001b[38;5;124m\"\u001b[39m\u001b[38;5;124mEnter\u001b[39m\u001b[38;5;124m\"\u001b[39m)\n",
                        "\u001b[0;31mTypeError\u001b[0m: Page.type() missing 1 required positional argument: 'text'"
                    ]
                }
            ],
            "source": [
                "while True:\n",
                "    m = await get_list_of_messages()\n",
                "\n",
                "    if m[0][\"unread\"] == True:\n",
                "        await search_person(\n",
                "            m[0][\"sender\"],\n",
                "            \"This is a test message for my hackathon project please ignore\",\n",
                "        )\n",
                "        break"
            ]
        },
        {
            "cell_type": "code",
            "execution_count": null,
            "metadata": {},
            "outputs": [],
            "source": [
                "def decode_qr_from_image(image_bytes):\n",
                "    try:\n",
                "        image = Image.open(io.BytesIO(image_bytes))\n",
                "        decoded_objects = pyzbar.decode(image)\n",
                "        for obj in decoded_objects:\n",
                "            return obj.data.decode(\"utf-8\")\n",
                "        return None\n",
                "    except Exception as e:\n",
                "        print(f\"Failed to decode QR from image: {e}\")\n",
                "        return None\n",
                "\n",
                "\n",
                "def display_qr_in_terminal(data):\n",
                "    try:\n",
                "        qr = qrcode.QRCode()\n",
                "        qr.add_data(data)\n",
                "        qr.make()\n",
                "        qr.print_ascii(invert=True)\n",
                "    except Exception as e:\n",
                "        print(f\"Failed to display QR in terminal: {e}\")"
            ]
        },
        {
            "cell_type": "code",
            "execution_count": null,
            "metadata": {},
            "outputs": [],
            "source": []
        },
        {
            "cell_type": "code",
            "execution_count": null,
            "metadata": {},
            "outputs": [],
            "source": [
                "qrinfo = None\n",
                "\n",
                "try:\n",
                "    await page.wait_for_selector(\"div._akau\", timeout=600)\n",
                "    print(\"QR code container detected.\")\n",
                "\n",
                "    qr_div = await page.query_selector(\"div._akau\")\n",
                "    if qr_div:\n",
                "        qr_info = await qr_div.get_attribute(\"data-ref\")\n",
                "        if qr_info:\n",
                "            qrinfo = qr_info\n",
                "    else:\n",
                "        print(\"data-ref attribute not found. Proceeding to screenshot method.\")\n",
                "except Exception as e:\n",
                "    print(f\"Error while extracting data-ref: {e}\")"
            ]
        },
        {
            "cell_type": "code",
            "execution_count": null,
            "metadata": {},
            "outputs": [],
            "source": [
                "qrinfo"
            ]
        },
        {
            "cell_type": "code",
            "execution_count": null,
            "metadata": {},
            "outputs": [],
            "source": [
                "display_qr_in_terminal(qrinfo)"
            ]
        },
        {
            "cell_type": "code",
            "execution_count": null,
            "metadata": {},
            "outputs": [],
            "source": [
                "screenshot = await page.screenshot()\n",
                "qr_info = decode_qr_from_image(screenshot)\n",
                "if qr_info:\n",
                "    return qr_info\n",
                "else:\n",
                "    print(\"Failed to decode QR code from screenshot.\")\n",
                "    return None"
            ]
        },
        {
            "cell_type": "code",
            "execution_count": null,
            "metadata": {},
            "outputs": [],
            "source": [
                "async def extract_login_qr(self):\n",
                "    assert page != None"
            ]
        },
        {
            "cell_type": "code",
            "execution_count": null,
            "metadata": {},
            "outputs": [],
            "source": [
                "try:\n",
                "    # Wait for the search input to be visible using a more stable selector\n",
                "    search_input_selector = (\n",
                "        \"div[contenteditable='true'][role='textbox'][data-lexical-editor='true']\"\n",
                "    )\n",
                "    await page.wait_for_selector(search_input_selector, timeout=60000)\n",
                "    search_input = await page.query_selector(search_input_selector)\n",
                "\n",
                "    if search_input:\n",
                "        # Type the name 'kausthubh' into the search input\n",
                "        await search_input.click()\n",
                "        await search_input.type(\n",
                "            \"kausthubh\", delay=100\n",
                "        )  # Adding a slight delay can help with typing simulation\n",
                "\n",
                "        # Wait for search results to load\n",
                "        await page.wait_for_timeout(2000)\n",
                "\n",
                "        # Wait for the specific search result to be visible and click on it\n",
                "        search_result_selector = \"p.selectable-text[title='kausthubh']\"\n",
                "        search_result = await page.wait_for_selector(\n",
                "            search_result_selector, timeout=60000\n",
                "        )\n",
                "\n",
                "        if search_result:\n",
                "            await search_result.click()\n",
                "            print(\"Chat with 'kausthubh' opened.\")\n",
                "        else:\n",
                "            print(\n",
                "                \"Search result for 'kausthubh' not found. Clicking on the first chat.\"\n",
                "            )\n",
                "\n",
                "            # Selector for the first chat in the chat list\n",
                "            first_chat_selector = (\n",
                "                \"div.x1y332i5:nth-child(3)\"  # Update this selector based on actual DOM\n",
                "            )\n",
                "            first_chat = await page.wait_for_selector(\n",
                "                first_chat_selector, timeout=60000\n",
                "            )\n",
                "\n",
                "            if first_chat:\n",
                "                await first_chat.click()\n",
                "                print(\"First chat clicked.\")\n",
                "            else:\n",
                "                print(\"Failed to find the first chat.\")\n",
                "    else:\n",
                "        print(\"Search input not found.\")\n",
                "except Exception as e:\n",
                "    print(f\"Error while searching for 'kausthubh': {e}\")"
            ]
        },
        {
            "cell_type": "markdown",
            "metadata": {},
            "source": [
                "## Closing the browser and saving the context"
            ]
        },
        {
            "cell_type": "code",
            "execution_count": null,
            "metadata": {},
            "outputs": [],
            "source": [
                "await context.storage_state(path=\"browser_context.json\")\n",
                "\n",
                "if browser:\n",
                "    await browser.close()\n",
                "elif context:\n",
                "    await context.close()\n",
                "\n",
                "await playwright.stop()"
            ]
        },
        {
            "cell_type": "code",
            "execution_count": null,
            "metadata": {},
            "outputs": [],
            "source": [
                "page2 = await browser.new_page()"
            ]
        },
        {
            "cell_type": "code",
            "execution_count": null,
            "metadata": {},
            "outputs": [],
            "source": []
        }
    ],
    "metadata": {
        "kernelspec": {
            "display_name": "project",
            "language": "python",
            "name": "python3"
        },
        "language_info": {
            "codemirror_mode": {
                "name": "ipython",
                "version": 3
            },
            "file_extension": ".py",
            "mimetype": "text/x-python",
            "name": "python",
            "nbconvert_exporter": "python",
            "pygments_lexer": "ipython3",
            "version": "3.12.2"
        }
    },
    "nbformat": 4,
    "nbformat_minor": 2
}