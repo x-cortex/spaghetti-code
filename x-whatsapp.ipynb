{
 "cells": [
  {
   "cell_type": "code",
   "execution_count": 1,
   "metadata": {},
   "outputs": [],
   "source": [
    "import asyncio\n",
    "from playwright.async_api import async_playwright\n",
    "import qrcode\n",
    "from PIL import Image\n",
    "import io\n",
    "import base64\n",
    "from pyzbar import pyzbar\n",
    "import os"
   ]
  },
  {
   "cell_type": "code",
   "execution_count": 3,
   "metadata": {},
   "outputs": [],
   "source": [
    "playwright = await async_playwright().start()\n",
    "browser = await playwright.chromium.launch(headless=False)\n",
    "context = await browser.new_context()\n",
    "page = await context.new_page()"
   ]
  },
  {
   "cell_type": "code",
   "execution_count": 4,
   "metadata": {},
   "outputs": [
    {
     "data": {
      "text/plain": [
       "<Response url='https://web.whatsapp.com/' request=<Request url='https://web.whatsapp.com/' method='GET'>>"
      ]
     },
     "execution_count": 4,
     "metadata": {},
     "output_type": "execute_result"
    }
   ],
   "source": [
    "await page.goto(\"https://web.whatsapp.com\")"
   ]
  },
  {
   "cell_type": "code",
   "execution_count": 34,
   "metadata": {},
   "outputs": [],
   "source": [
    "async def extract_message_details(message):\n",
    "    name_element = await message.query_selector(\"div._aou8._aj_h > span\")\n",
    "    name = await name_element.inner_text() if name_element else \"N/A\"\n",
    "\n",
    "    time_element = await message.query_selector(\"div._ak8i\")\n",
    "    time = await time_element.inner_text() if time_element else \"N/A\"\n",
    "\n",
    "    message_element = await message.query_selector(\"div._ak8k > span > span\")\n",
    "    message = await message_element.inner_text() if message_element else \"N/A\"\n",
    "\n",
    "    return {\"name\": name, \"time\": time, \"message\": message}"
   ]
  },
  {
   "cell_type": "code",
   "execution_count": 35,
   "metadata": {},
   "outputs": [
    {
     "data": {
      "text/plain": [
       "{'name': 'Kausthubh', 'time': '12:24 AM', 'message': 'fuck'}"
      ]
     },
     "execution_count": 35,
     "metadata": {},
     "output_type": "execute_result"
    }
   ],
   "source": [
    "async def fetch_latest_message():\n",
    "    selector = 'div[role=\"listitem\"]'\n",
    "    # or selector = '//*[@id=\"pane-side\"]/div[2]/div/div/child::div'\n",
    "\n",
    "    await page.wait_for_selector(selector, timeout=1000)\n",
    "    list_items = await page.query_selector_all(selector)\n",
    "\n",
    "    for item in list_items:\n",
    "        transform = await item.evaluate(\n",
    "            \"element => window.getComputedStyle(element).transform\"\n",
    "        )\n",
    "\n",
    "        if transform:\n",
    "            if \"matrix\" in transform:\n",
    "                parts = transform.replace(\"matrix(\", \"\").replace(\")\", \"\").split(\", \")\n",
    "                if len(parts) == 6:\n",
    "                    translate_y = float(parts[5])\n",
    "                    if translate_y == 0:\n",
    "                        return await extract_message_details(item)\n",
    "            elif \"translateY(0px)\" in transform:\n",
    "                print(\"Div with role='listitem' and translateY=72px found.\")\n",
    "                return await extract_message_details(item)\n",
    "\n",
    "    print(\"Desired div not found.\")\n",
    "    return None\n",
    "\n",
    "\n",
    "await fetch_latest_message()"
   ]
  },
  {
   "cell_type": "code",
   "execution_count": 56,
   "metadata": {},
   "outputs": [],
   "source": [
    "sent_messages = []\n",
    "\n",
    "\n",
    "async def send_message(name: str, message: str):\n",
    "    search_input_selector = (\n",
    "        \"div[contenteditable='true'][role='textbox'][data-lexical-editor='true']\"\n",
    "    )\n",
    "    await page.wait_for_selector(search_input_selector, timeout=60000)\n",
    "    search_input = await page.query_selector(search_input_selector)\n",
    "\n",
    "    if search_input:\n",
    "        await search_input.click()\n",
    "\n",
    "        await page.keyboard.down(\"Control\")\n",
    "        await page.keyboard.press(\"A\")\n",
    "        await page.keyboard.up(\"Control\")\n",
    "        await page.keyboard.press(\"Backspace\")\n",
    "\n",
    "        await search_input.type(name, delay=20)\n",
    "        await page.keyboard.press(\"Enter\")\n",
    "\n",
    "        await page.keyboard.down(\"Control\")\n",
    "        await page.keyboard.press(\"A\")\n",
    "        await page.keyboard.up(\"Control\")\n",
    "        await page.keyboard.press(\"Backspace\")\n",
    "\n",
    "        await page.keyboard.type(message, delay=20)\n",
    "        await page.keyboard.press(\"Enter\")\n",
    "        await page.wait_for_timeout(100)\n",
    "        await page.keyboard.press(\"Enter\")\n",
    "\n",
    "        await page.wait_for_timeout(200)\n",
    "\n",
    "        if len(sent_messages) >= 20:\n",
    "            sent_messages.pop(0)\n",
    "        sent_messages.append(message)\n",
    "    else:\n",
    "        print(\"Search input not found.\")"
   ]
  },
  {
   "cell_type": "code",
   "execution_count": 61,
   "metadata": {},
   "outputs": [],
   "source": [
    "async def watch_new_messages():\n",
    "    \"\"\"\n",
    "    Continuously watches for new messages and yields them as they arrive,\n",
    "    excluding messages sent by this script.\n",
    "    \"\"\"\n",
    "    new_message = await fetch_latest_message()\n",
    "    assert new_message is not None\n",
    "\n",
    "    name = new_message.get(\"name\", None)\n",
    "    message = new_message.get(\"message\", None)\n",
    "    time = new_message.get(\"time\", None)\n",
    "\n",
    "    await asyncio.sleep(1)\n",
    "\n",
    "    while True:\n",
    "        try:\n",
    "            new_message = await fetch_latest_message()\n",
    "            if new_message:\n",
    "                # Check if the message has been sent by this script\n",
    "                if not (\n",
    "                    (\n",
    "                        new_message.get(\"message\") in sent_messages\n",
    "                        or new_message.get(\"message\") == \"N/A\"\n",
    "                    )\n",
    "                    and new_message.get(\"name\", None) == name\n",
    "                    and new_message.get(\"time\", None) == time\n",
    "                ):\n",
    "                    name = new_message.get(\"name\", None)\n",
    "                    message = new_message.get(\"message\", None)\n",
    "                    time = new_message.get(\"time\", None)\n",
    "                    yield new_message\n",
    "        except Exception as e:\n",
    "            print(f\"Error while fetching latest message: {e}\")\n",
    "        await asyncio.sleep(1)"
   ]
  },
  {
   "cell_type": "code",
   "execution_count": 62,
   "metadata": {},
   "outputs": [
    {
     "name": "stdout",
     "output_type": "stream",
     "text": [
      "New message received:\n",
      "{'name': 'Kausthubh', 'time': '2:25 AM', 'message': 'hiiiiiiiiiiiiiiiiiiii'}\n",
      "New message received:\n",
      "{'name': 'Kausthubh', 'time': '2:25 AM', 'message': 'hiiiiiiiiiiiiiiiiiiii'}\n"
     ]
    },
    {
     "ename": "CancelledError",
     "evalue": "",
     "output_type": "error",
     "traceback": [
      "\u001b[0;31m---------------------------------------------------------------------------\u001b[0m",
      "\u001b[0;31mCancelledError\u001b[0m                            Traceback (most recent call last)",
      "Cell \u001b[0;32mIn[62], line 1\u001b[0m\n\u001b[0;32m----> 1\u001b[0m \u001b[38;5;28;01masync\u001b[39;00m \u001b[38;5;28;01mfor\u001b[39;00m message \u001b[38;5;129;01min\u001b[39;00m watch_new_messages():\n\u001b[1;32m      2\u001b[0m     \u001b[38;5;28mprint\u001b[39m(\u001b[38;5;124m\"\u001b[39m\u001b[38;5;124mNew message received:\u001b[39m\u001b[38;5;124m\"\u001b[39m)\n\u001b[1;32m      3\u001b[0m     \u001b[38;5;28mprint\u001b[39m(message)\n",
      "Cell \u001b[0;32mIn[61], line 34\u001b[0m, in \u001b[0;36mwatch_new_messages\u001b[0;34m()\u001b[0m\n\u001b[1;32m     32\u001b[0m \u001b[38;5;28;01mexcept\u001b[39;00m \u001b[38;5;167;01mException\u001b[39;00m \u001b[38;5;28;01mas\u001b[39;00m e:\n\u001b[1;32m     33\u001b[0m     \u001b[38;5;28mprint\u001b[39m(\u001b[38;5;124mf\u001b[39m\u001b[38;5;124m\"\u001b[39m\u001b[38;5;124mError while fetching latest message: \u001b[39m\u001b[38;5;132;01m{\u001b[39;00me\u001b[38;5;132;01m}\u001b[39;00m\u001b[38;5;124m\"\u001b[39m)\n\u001b[0;32m---> 34\u001b[0m \u001b[38;5;28;01mawait\u001b[39;00m asyncio\u001b[38;5;241m.\u001b[39msleep(\u001b[38;5;241m1\u001b[39m)\n",
      "File \u001b[0;32m/opt/anaconda3/envs/project/lib/python3.11/asyncio/tasks.py:649\u001b[0m, in \u001b[0;36msleep\u001b[0;34m(delay, result)\u001b[0m\n\u001b[1;32m    645\u001b[0m h \u001b[38;5;241m=\u001b[39m loop\u001b[38;5;241m.\u001b[39mcall_later(delay,\n\u001b[1;32m    646\u001b[0m                     futures\u001b[38;5;241m.\u001b[39m_set_result_unless_cancelled,\n\u001b[1;32m    647\u001b[0m                     future, result)\n\u001b[1;32m    648\u001b[0m \u001b[38;5;28;01mtry\u001b[39;00m:\n\u001b[0;32m--> 649\u001b[0m     \u001b[38;5;28;01mreturn\u001b[39;00m \u001b[38;5;28;01mawait\u001b[39;00m future\n\u001b[1;32m    650\u001b[0m \u001b[38;5;28;01mfinally\u001b[39;00m:\n\u001b[1;32m    651\u001b[0m     h\u001b[38;5;241m.\u001b[39mcancel()\n",
      "\u001b[0;31mCancelledError\u001b[0m: "
     ]
    }
   ],
   "source": [
    "async for message in watch_new_messages():\n",
    "    print(\"New message received:\")\n",
    "    print(message)\n",
    "    await send_message(message[\"name\"], \"heyy! what's up?\")"
   ]
  },
  {
   "cell_type": "code",
   "execution_count": null,
   "metadata": {},
   "outputs": [],
   "source": []
  }
 ],
 "metadata": {
  "kernelspec": {
   "display_name": "project",
   "language": "python",
   "name": "python3"
  },
  "language_info": {
   "codemirror_mode": {
    "name": "ipython",
    "version": 3
   },
   "file_extension": ".py",
   "mimetype": "text/x-python",
   "name": "python",
   "nbconvert_exporter": "python",
   "pygments_lexer": "ipython3",
   "version": "3.11.9"
  }
 },
 "nbformat": 4,
 "nbformat_minor": 2
}
