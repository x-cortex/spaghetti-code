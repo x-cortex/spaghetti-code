{
 "cells": [
  {
   "cell_type": "code",
   "execution_count": 25,
   "metadata": {},
   "outputs": [],
   "source": [
    "import asyncio\n",
    "from playwright.async_api import async_playwright\n",
    "import qrcode\n",
    "from PIL import Image\n",
    "import io\n",
    "import base64\n",
    "from pyzbar import pyzbar\n",
    "import os"
   ]
  },
  {
   "cell_type": "code",
   "execution_count": 26,
   "metadata": {},
   "outputs": [],
   "source": [
    "playwright = await async_playwright().start()\n",
    "browser = await playwright.chromium.launch(headless=False)\n",
    "context = await browser.new_context()\n",
    "page = await context.new_page()"
   ]
  },
  {
   "cell_type": "code",
   "execution_count": 27,
   "metadata": {},
   "outputs": [
    {
     "data": {
      "text/plain": [
       "<Response url='https://web.whatsapp.com/' request=<Request url='https://web.whatsapp.com/' method='GET'>>"
      ]
     },
     "execution_count": 27,
     "metadata": {},
     "output_type": "execute_result"
    }
   ],
   "source": [
    "await page.goto(\"https://web.whatsapp.com\")"
   ]
  },
  {
   "cell_type": "code",
   "execution_count": 28,
   "metadata": {},
   "outputs": [],
   "source": [
    "async def extract_message_details(message):\n",
    "    name_element = await message.query_selector(\"div._aou8._aj_h > span\")\n",
    "    name = await name_element.inner_text() if name_element else \"N/A\"\n",
    "\n",
    "    time_element = await message.query_selector(\"div._ak8i\")\n",
    "    time = await time_element.inner_text() if time_element else \"N/A\"\n",
    "\n",
    "    message_element = await message.query_selector(\"div._ak8k > span > span\")\n",
    "    message = await message_element.inner_text() if message_element else \"N/A\"\n",
    "\n",
    "    return {\"name\": name, \"time\": time, \"message\": message}"
   ]
  },
  {
   "cell_type": "code",
   "execution_count": 30,
   "metadata": {},
   "outputs": [
    {
     "data": {
      "text/plain": [
       "{'name': 'Kausthubh', 'time': '12:19 PM', 'message': \"heyy! what's up?\"}"
      ]
     },
     "execution_count": 30,
     "metadata": {},
     "output_type": "execute_result"
    }
   ],
   "source": [
    "async def fetch_latest_message():\n",
    "    selector = 'div[role=\"listitem\"]'\n",
    "    # or selector = '//*[@id=\"pane-side\"]/div[2]/div/div/child::div'\n",
    "\n",
    "    await page.wait_for_selector(selector, timeout=1000)\n",
    "    list_items = await page.query_selector_all(selector)\n",
    "\n",
    "    for item in list_items:\n",
    "        transform = await item.evaluate(\n",
    "            \"element => window.getComputedStyle(element).transform\"\n",
    "        )\n",
    "\n",
    "        if transform:\n",
    "            if \"matrix\" in transform:\n",
    "                parts = transform.replace(\"matrix(\", \"\").replace(\")\", \"\").split(\", \")\n",
    "                if len(parts) == 6:\n",
    "                    translate_y = float(parts[5])\n",
    "                    if translate_y == 0:\n",
    "                        return await extract_message_details(item)\n",
    "            elif \"translateY(0px)\" in transform:\n",
    "                print(\"Div with role='listitem' and translateY=72px found.\")\n",
    "                return await extract_message_details(item)\n",
    "\n",
    "    print(\"Desired div not found.\")\n",
    "    return None\n",
    "\n",
    "\n",
    "await fetch_latest_message()"
   ]
  },
  {
   "cell_type": "code",
   "execution_count": 31,
   "metadata": {},
   "outputs": [],
   "source": [
    "sent_messages = []\n",
    "\n",
    "\n",
    "async def send_message(name: str, message: str):\n",
    "    search_input_selector = (\n",
    "        \"div[contenteditable='true'][role='textbox'][data-lexical-editor='true']\"\n",
    "    )\n",
    "    await page.wait_for_selector(search_input_selector, timeout=60000)\n",
    "    search_input = await page.query_selector(search_input_selector)\n",
    "\n",
    "    if search_input:\n",
    "        await search_input.click()\n",
    "\n",
    "        await page.keyboard.down(\"Control\")\n",
    "        await page.keyboard.press(\"A\")\n",
    "        await page.keyboard.up(\"Control\")\n",
    "        await page.keyboard.press(\"Backspace\")\n",
    "\n",
    "        await search_input.type(name, delay=20)\n",
    "        await page.keyboard.press(\"Enter\")\n",
    "\n",
    "        await page.keyboard.down(\"Control\")\n",
    "        await page.keyboard.press(\"A\")\n",
    "        await page.keyboard.up(\"Control\")\n",
    "        await page.keyboard.press(\"Backspace\")\n",
    "\n",
    "        await page.keyboard.type(message, delay=20)\n",
    "        await page.keyboard.press(\"Enter\")\n",
    "        await page.wait_for_timeout(100)\n",
    "        await page.keyboard.press(\"Enter\")\n",
    "\n",
    "        await page.wait_for_timeout(200)\n",
    "\n",
    "        if len(sent_messages) >= 20:\n",
    "            sent_messages.pop(0)\n",
    "        sent_messages.append(message)\n",
    "    else:\n",
    "        print(\"Search input not found.\")"
   ]
  },
  {
   "cell_type": "code",
   "execution_count": 32,
   "metadata": {},
   "outputs": [],
   "source": [
    "async def watch_new_messages():\n",
    "    \"\"\"\n",
    "    Continuously watches for new messages and yields them as they arrive,\n",
    "    excluding messages sent by this script.\n",
    "    \"\"\"\n",
    "    new_message = await fetch_latest_message()\n",
    "    assert new_message is not None\n",
    "\n",
    "    name = new_message.get(\"name\", None)\n",
    "    message = new_message.get(\"message\", None)\n",
    "    time = new_message.get(\"time\", None)\n",
    "\n",
    "    await asyncio.sleep(1)\n",
    "\n",
    "    while True:\n",
    "        try:\n",
    "            new_message = await fetch_latest_message()\n",
    "            if new_message:\n",
    "                # Check if the message has been sent by this script\n",
    "                if not (\n",
    "                    (\n",
    "                        new_message.get(\"message\") in sent_messages\n",
    "                        or new_message.get(\"message\") == \"N/A\"\n",
    "                    )\n",
    "                    and new_message.get(\"name\", None) == name\n",
    "                    # and new_message.get(\"time\", None) == time\n",
    "                ):\n",
    "                    name = new_message.get(\"name\", None)\n",
    "                    message = new_message.get(\"message\", None)\n",
    "                    time = new_message.get(\"time\", None)\n",
    "                    yield new_message\n",
    "        except Exception as e:\n",
    "            print(f\"Error while fetching latest message: {e}\")\n",
    "        await asyncio.sleep(1)"
   ]
  },
  {
   "cell_type": "code",
   "execution_count": 35,
   "metadata": {},
   "outputs": [
    {
     "name": "stdout",
     "output_type": "stream",
     "text": [
      "Loaded as API: http://127.0.0.1:7860/ ✔\n"
     ]
    }
   ],
   "source": [
    "from gradio_client import Client\n",
    "\n",
    "client = Client(\"http://127.0.0.1:7860/\")"
   ]
  },
  {
   "cell_type": "code",
   "execution_count": 37,
   "metadata": {},
   "outputs": [
    {
     "name": "stdout",
     "output_type": "stream",
     "text": [
      "New message received:\n",
      "{'name': 'Kausthubh', 'time': '12:19 PM', 'message': \"heyy! what's up?\"}\n",
      "New message received:\n",
      "{'name': 'Kausthubh', 'time': '12:27 PM', 'message': 'i like to eat food'}\n",
      "New message received:\n",
      "{'name': 'Kausthubh', 'time': '12:30 PM', 'message': 'what is the purpose of life'}\n"
     ]
    }
   ],
   "source": [
    "async for message in watch_new_messages():\n",
    "    print(\"New message received:\")\n",
    "    print(message)\n",
    "    result = client.predict(\n",
    "        user_input=str(message[\"message\"]),\n",
    "        recipient=message[\"name\"],\n",
    "        chat_history=\"\",\n",
    "        timestamp=message[\"time\"],\n",
    "        api_name=\"/predict\",\n",
    "    )\n",
    "    await send_message(message[\"name\"], result)"
   ]
  },
  {
   "cell_type": "code",
   "execution_count": null,
   "metadata": {},
   "outputs": [],
   "source": []
  }
 ],
 "metadata": {
  "kernelspec": {
   "display_name": "project",
   "language": "python",
   "name": "python3"
  },
  "language_info": {
   "codemirror_mode": {
    "name": "ipython",
    "version": 3
   },
   "file_extension": ".py",
   "mimetype": "text/x-python",
   "name": "python",
   "nbconvert_exporter": "python",
   "pygments_lexer": "ipython3",
   "version": "3.11.9"
  }
 },
 "nbformat": 4,
 "nbformat_minor": 2
}
