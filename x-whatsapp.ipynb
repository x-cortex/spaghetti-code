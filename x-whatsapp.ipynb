{
 "cells": [
  {
   "cell_type": "code",
   "execution_count": 1,
   "metadata": {},
   "outputs": [],
   "source": [
    "import asyncio\n",
    "from playwright.async_api import async_playwright\n",
    "import qrcode\n",
    "from PIL import Image\n",
    "import io\n",
    "import base64\n",
    "from pyzbar import pyzbar\n",
    "import os"
   ]
  },
  {
   "cell_type": "code",
   "execution_count": 2,
   "metadata": {},
   "outputs": [],
   "source": [
    "from supabase import create_client, Client\n",
    "from dotenv import load_dotenv\n",
    "\n",
    "load_dotenv()\n",
    "\n",
    "url = os.getenv(\"SUPABASE_URL\")\n",
    "key = os.getenv(\"SUPABASE_KEY\")\n",
    "assert url is not None\n",
    "assert key is not None\n",
    "supabase: Client = create_client(url, key)"
   ]
  },
  {
   "cell_type": "code",
   "execution_count": 3,
   "metadata": {},
   "outputs": [],
   "source": [
    "playwright = await async_playwright().start()\n",
    "browser = await playwright.chromium.launch(headless=False)\n",
    "context = await browser.new_context()\n",
    "page = await context.new_page()"
   ]
  },
  {
   "cell_type": "code",
   "execution_count": 4,
   "metadata": {},
   "outputs": [
    {
     "data": {
      "text/plain": [
       "<Response url='https://web.whatsapp.com/' request=<Request url='https://web.whatsapp.com/' method='GET'>>"
      ]
     },
     "execution_count": 4,
     "metadata": {},
     "output_type": "execute_result"
    }
   ],
   "source": [
    "await page.goto(\"https://web.whatsapp.com\")"
   ]
  },
  {
   "cell_type": "code",
   "execution_count": 5,
   "metadata": {},
   "outputs": [],
   "source": [
    "async def extract_message_details(message):\n",
    "    name_element = await message.query_selector(\"div._aou8._aj_h > span\")\n",
    "    name = await name_element.inner_text() if name_element else \"N/A\"\n",
    "\n",
    "    time_element = await message.query_selector(\"div._ak8i\")\n",
    "    time = await time_element.inner_text() if time_element else \"N/A\"\n",
    "\n",
    "    message_element = await message.query_selector(\"div._ak8k > span > span\")\n",
    "    message = await message_element.inner_text() if message_element else \"N/A\"\n",
    "\n",
    "    return {\"name\": name, \"time\": time, \"message\": message}"
   ]
  },
  {
   "cell_type": "code",
   "execution_count": 11,
   "metadata": {},
   "outputs": [
    {
     "data": {
      "text/plain": [
       "{'name': 'Kausthubh', 'time': '2:05 PM', 'message': \"I'm free now\"}"
      ]
     },
     "execution_count": 11,
     "metadata": {},
     "output_type": "execute_result"
    }
   ],
   "source": [
    "async def fetch_latest_message():\n",
    "    # selector = 'div[role=\"listitem\"]'\n",
    "    # or\n",
    "    selector = '//*[@id=\"pane-side\"]/div[2]/div/div/child::div'\n",
    "\n",
    "    await page.wait_for_selector(selector, timeout=1000)\n",
    "    list_items = await page.query_selector_all(selector)\n",
    "\n",
    "    for item in list_items:\n",
    "        transform = await item.evaluate(\n",
    "            \"element => window.getComputedStyle(element).transform\"\n",
    "        )\n",
    "\n",
    "        if transform:\n",
    "            if \"matrix\" in transform:\n",
    "                parts = transform.replace(\"matrix(\", \"\").replace(\")\", \"\").split(\", \")\n",
    "                if len(parts) == 6:\n",
    "                    translate_y = float(parts[5])\n",
    "                    if translate_y == 0:\n",
    "                        return await extract_message_details(item)\n",
    "            elif \"translateY(0px)\" in transform:\n",
    "                print(\"Div with role='listitem' and translateY=72px found.\")\n",
    "                return await extract_message_details(item)\n",
    "\n",
    "    print(\"Desired div not found.\")\n",
    "    return None\n",
    "\n",
    "\n",
    "await fetch_latest_message()"
   ]
  },
  {
   "cell_type": "code",
   "execution_count": 12,
   "metadata": {},
   "outputs": [],
   "source": [
    "sent_messages = []\n",
    "\n",
    "\n",
    "async def send_message(name: str, message: str):\n",
    "    search_input_selector = (\n",
    "        \"div[contenteditable='true'][role='textbox'][data-lexical-editor='true']\"\n",
    "    )\n",
    "    await page.wait_for_selector(search_input_selector, timeout=60000)\n",
    "    search_input = await page.query_selector(search_input_selector)\n",
    "\n",
    "    if search_input:\n",
    "        await search_input.click()\n",
    "\n",
    "        await page.keyboard.down(\"Control\")\n",
    "        await page.keyboard.press(\"A\")\n",
    "        await page.keyboard.up(\"Control\")\n",
    "        await page.keyboard.press(\"Backspace\")\n",
    "\n",
    "        await search_input.type(name, delay=20)\n",
    "        await page.keyboard.press(\"Enter\")\n",
    "\n",
    "        await page.keyboard.down(\"Control\")\n",
    "        await page.keyboard.press(\"A\")\n",
    "        await page.keyboard.up(\"Control\")\n",
    "        await page.keyboard.press(\"Backspace\")\n",
    "\n",
    "        await page.keyboard.type(message, delay=20)\n",
    "        await page.keyboard.press(\"Enter\")\n",
    "        await page.wait_for_timeout(100)\n",
    "        await page.keyboard.press(\"Enter\")\n",
    "\n",
    "        await page.wait_for_timeout(200)\n",
    "\n",
    "        if len(sent_messages) >= 20:\n",
    "            sent_messages.pop(0)\n",
    "        sent_messages.append(message)\n",
    "    else:\n",
    "        print(\"Search input not found.\")"
   ]
  },
  {
   "cell_type": "code",
   "execution_count": 13,
   "metadata": {},
   "outputs": [],
   "source": [
    "import datetime\n",
    "\n",
    "\n",
    "async def watch_new_messages():\n",
    "    \"\"\"\n",
    "    Continuously watches for new messages and scheduled messages and yields them as they arrive,\n",
    "    excluding messages sent by this script.\n",
    "    \"\"\"\n",
    "    new_message = await fetch_latest_message()\n",
    "    assert new_message is not None\n",
    "\n",
    "    name = new_message.get(\"name\", None)\n",
    "    message = new_message.get(\"message\", None)\n",
    "    time = new_message.get(\"time\", None)\n",
    "\n",
    "    iteration_count = 0\n",
    "\n",
    "    while True:\n",
    "        try:\n",
    "            # Check for new WhatsApp messages\n",
    "            new_message = await fetch_latest_message()\n",
    "            if new_message:\n",
    "                if not (\n",
    "                    (\n",
    "                        new_message.get(\"message\") in sent_messages\n",
    "                        or new_message.get(\"message\") == \"N/A\"\n",
    "                    )\n",
    "                    and new_message.get(\"name\", None) == name\n",
    "                ):\n",
    "                    name = new_message.get(\"name\", None)\n",
    "                    message = new_message.get(\"message\", None)\n",
    "                    time = new_message.get(\"time\", None)\n",
    "                    yield new_message\n",
    "\n",
    "            # Check for scheduled messages every 30 iterations\n",
    "            if iteration_count % 30 == 0:\n",
    "                current_time = datetime.datetime.now()\n",
    "                response = (\n",
    "                    supabase.table(\"schedule\")\n",
    "                    .select(\"*\")\n",
    "                    .order(\"send_time\")\n",
    "                    .limit(1)\n",
    "                    .execute()\n",
    "                )\n",
    "                if response.data:\n",
    "                    scheduled_message = response.data[0]\n",
    "                    scheduled_time = datetime.datetime.fromisoformat(\n",
    "                        scheduled_message[\"send_time\"]\n",
    "                    )\n",
    "\n",
    "                    if scheduled_time <= current_time:\n",
    "                        yield {\n",
    "                            \"name\": scheduled_message[\"recipient\"],\n",
    "                            \"message\": scheduled_message[\"chat\"],\n",
    "                            \"time\": scheduled_time.strftime(\"%I:%M %p\"),\n",
    "                            \"scheduled\": True,\n",
    "                        }\n",
    "                        # Remove the scheduled message from the database\n",
    "                        supabase.table(\"schedule\").delete().eq(\n",
    "                            \"id\", scheduled_message[\"id\"]\n",
    "                        ).execute()\n",
    "\n",
    "                        name = scheduled_message[\"recipient\"]\n",
    "                        message = scheduled_message[\"chat\"]\n",
    "\n",
    "            iteration_count += 1\n",
    "        except Exception as e:\n",
    "            print(f\"Error while fetching messages: {e}\")\n",
    "\n",
    "        await asyncio.sleep(1)"
   ]
  },
  {
   "cell_type": "code",
   "execution_count": 14,
   "metadata": {},
   "outputs": [
    {
     "name": "stdout",
     "output_type": "stream",
     "text": [
      "Loaded as API: http://127.0.0.1:7860/ ✔\n"
     ]
    }
   ],
   "source": [
    "from gradio_client import Client\n",
    "\n",
    "client = Client(\"http://127.0.0.1:7860/\")"
   ]
  },
  {
   "cell_type": "code",
   "execution_count": 15,
   "metadata": {},
   "outputs": [
    {
     "name": "stdout",
     "output_type": "stream",
     "text": [
      "New message received:\n",
      "{'name': 'Kausthubh', 'time': '2:05 PM', 'message': \"I'm free now\"}\n",
      "New message received:\n",
      "{'name': 'Kausthubh', 'time': '2:06 PM', 'message': \"Wau? You mean what I want is to know if you're going to play Valo with me after exams, right?\"}\n",
      "Error while fetching messages: Page.wait_for_selector: Timeout 1000ms exceeded.\n",
      "Call log:\n",
      "waiting for locator(\"//*[@id=\\\"pane-side\\\"]/div[2]/div/div/child::div\") to be visible\n",
      "  -   locator resolved to 17 elements. Proceeding with the first one: <div role=\"listitem\" class=\"x10l6tqk xh8yej3 x1g42fcv\">…</div>\n",
      "\n",
      "Error while fetching messages: Page.wait_for_selector: Timeout 1000ms exceeded.\n",
      "Call log:\n",
      "waiting for locator(\"//*[@id=\\\"pane-side\\\"]/div[2]/div/div/child::div\") to be visible\n",
      "\n",
      "Error while fetching messages: Page.wait_for_selector: Timeout 1000ms exceeded.\n",
      "Call log:\n",
      "waiting for locator(\"//*[@id=\\\"pane-side\\\"]/div[2]/div/div/child::div\") to be visible\n",
      "\n"
     ]
    }
   ],
   "source": [
    "async for message in watch_new_messages():\n",
    "    print(\"New message received:\")\n",
    "    print(message)\n",
    "    if message.get(\"scheduled\", False):\n",
    "\n",
    "        # Handle scheduled message\n",
    "        await send_message(message[\"name\"], message[\"message\"])\n",
    "    else:\n",
    "        # Handle regular WhatsApp message\n",
    "        result = client.predict(\n",
    "            user_input=str(message[\"message\"]),\n",
    "            recipient=message[\"name\"],\n",
    "            chat_history=\"\",\n",
    "            timestamp=message[\"time\"],\n",
    "            api_name=\"/predict\",\n",
    "        )\n",
    "        await send_message(message[\"name\"], result)"
   ]
  },
  {
   "cell_type": "code",
   "execution_count": null,
   "metadata": {},
   "outputs": [],
   "source": []
  }
 ],
 "metadata": {
  "kernelspec": {
   "display_name": "project",
   "language": "python",
   "name": "python3"
  },
  "language_info": {
   "codemirror_mode": {
    "name": "ipython",
    "version": 3
   },
   "file_extension": ".py",
   "mimetype": "text/x-python",
   "name": "python",
   "nbconvert_exporter": "python",
   "pygments_lexer": "ipython3",
   "version": "3.11.9"
  }
 },
 "nbformat": 4,
 "nbformat_minor": 2
}
