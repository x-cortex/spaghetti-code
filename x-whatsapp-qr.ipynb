{
 "cells": [
  {
   "cell_type": "code",
   "execution_count": 1,
   "metadata": {},
   "outputs": [],
   "source": [
    "import asyncio\n",
    "from playwright.async_api import async_playwright\n",
    "import qrcode\n",
    "from PIL import Image\n",
    "import io\n",
    "import base64\n",
    "from pyzbar import pyzbar\n",
    "import os"
   ]
  },
  {
   "cell_type": "code",
   "execution_count": 3,
   "metadata": {},
   "outputs": [],
   "source": [
    "playwright = await async_playwright().start()\n",
    "browser = await playwright.chromium.launch(headless=False)\n",
    "context = await browser.new_context()\n",
    "page = await context.new_page()"
   ]
  },
  {
   "cell_type": "code",
   "execution_count": 4,
   "metadata": {},
   "outputs": [
    {
     "data": {
      "text/plain": [
       "<Response url='https://web.whatsapp.com/' request=<Request url='https://web.whatsapp.com/' method='GET'>>"
      ]
     },
     "execution_count": 4,
     "metadata": {},
     "output_type": "execute_result"
    }
   ],
   "source": [
    "await page.goto(\"https://web.whatsapp.com\")"
   ]
  },
  {
   "cell_type": "code",
   "execution_count": null,
   "metadata": {},
   "outputs": [],
   "source": [
    "def decode_qr_from_image(image_bytes):\n",
    "    try:\n",
    "        image = Image.open(io.BytesIO(image_bytes))\n",
    "        decoded_objects = pyzbar.decode(image)\n",
    "        for obj in decoded_objects:\n",
    "            return obj.data.decode(\"utf-8\")\n",
    "        return None\n",
    "    except Exception as e:\n",
    "        print(f\"Failed to decode QR from image: {e}\")\n",
    "        return None\n",
    "\n",
    "\n",
    "def display_qr_in_terminal(data):\n",
    "    try:\n",
    "        qr = qrcode.QRCode()\n",
    "        qr.add_data(data)\n",
    "        qr.make()\n",
    "        qr.print_ascii(invert=True)\n",
    "    except Exception as e:\n",
    "        print(f\"Failed to display QR in terminal: {e}\")"
   ]
  },
  {
   "cell_type": "code",
   "execution_count": null,
   "metadata": {},
   "outputs": [],
   "source": [
    "qrinfo = None\n",
    "\n",
    "try:\n",
    "    await page.wait_for_selector(\"div._akau\", timeout=600)\n",
    "    print(\"QR code container detected.\")\n",
    "\n",
    "    qr_div = await page.query_selector(\"div._akau\")\n",
    "    if qr_div:\n",
    "        qr_info = await qr_div.get_attribute(\"data-ref\")\n",
    "        if qr_info:\n",
    "            qrinfo = qr_info\n",
    "    else:\n",
    "        print(\"data-ref attribute not found. Proceeding to screenshot method.\")\n",
    "except Exception as e:\n",
    "    print(f\"Error while extracting data-ref: {e}\")"
   ]
  },
  {
   "cell_type": "code",
   "execution_count": null,
   "metadata": {},
   "outputs": [],
   "source": [
    "qrinfo"
   ]
  },
  {
   "cell_type": "code",
   "execution_count": null,
   "metadata": {},
   "outputs": [],
   "source": [
    "display_qr_in_terminal(qrinfo)"
   ]
  },
  {
   "cell_type": "code",
   "execution_count": null,
   "metadata": {},
   "outputs": [],
   "source": [
    "screenshot = await page.screenshot()\n",
    "qr_info = decode_qr_from_image(screenshot)\n",
    "if qr_info:\n",
    "    return qr_info\n",
    "else:\n",
    "    print(\"Failed to decode QR code from screenshot.\")\n",
    "    return None"
   ]
  },
  {
   "cell_type": "code",
   "execution_count": null,
   "metadata": {},
   "outputs": [],
   "source": [
    "async def extract_login_qr(self):\n",
    "    assert page != None"
   ]
  },
  {
   "cell_type": "code",
   "execution_count": null,
   "metadata": {},
   "outputs": [],
   "source": [
    "try:\n",
    "    # Wait for the search input to be visible using a more stable selector\n",
    "    search_input_selector = (\n",
    "        \"div[contenteditable='true'][role='textbox'][data-lexical-editor='true']\"\n",
    "    )\n",
    "    await page.wait_for_selector(search_input_selector, timeout=60000)\n",
    "    search_input = await page.query_selector(search_input_selector)\n",
    "\n",
    "    if search_input:\n",
    "        # Type the name 'kausthubh' into the search input\n",
    "        await search_input.click()\n",
    "        await search_input.type(\n",
    "            \"kausthubh\", delay=100\n",
    "        )  # Adding a slight delay can help with typing simulation\n",
    "\n",
    "        # Wait for search results to load\n",
    "        await page.wait_for_timeout(2000)\n",
    "\n",
    "        # Wait for the specific search result to be visible and click on it\n",
    "        search_result_selector = \"p.selectable-text[title='kausthubh']\"\n",
    "        search_result = await page.wait_for_selector(\n",
    "            search_result_selector, timeout=60000\n",
    "        )\n",
    "\n",
    "        if search_result:\n",
    "            await search_result.click()\n",
    "            print(\"Chat with 'kausthubh' opened.\")\n",
    "        else:\n",
    "            print(\n",
    "                \"Search result for 'kausthubh' not found. Clicking on the first chat.\"\n",
    "            )\n",
    "\n",
    "            # Selector for the first chat in the chat list\n",
    "            first_chat_selector = (\n",
    "                \"div.x1y332i5:nth-child(3)\"  # Update this selector based on actual DOM\n",
    "            )\n",
    "            first_chat = await page.wait_for_selector(\n",
    "                first_chat_selector, timeout=60000\n",
    "            )\n",
    "\n",
    "            if first_chat:\n",
    "                await first_chat.click()\n",
    "                print(\"First chat clicked.\")\n",
    "            else:\n",
    "                print(\"Failed to find the first chat.\")\n",
    "    else:\n",
    "        print(\"Search input not found.\")\n",
    "except Exception as e:\n",
    "    print(f\"Error while searching for 'kausthubh': {e}\")"
   ]
  },
  {
   "cell_type": "markdown",
   "metadata": {},
   "source": [
    "## Closing the browser and saving the context"
   ]
  },
  {
   "cell_type": "code",
   "execution_count": null,
   "metadata": {},
   "outputs": [],
   "source": [
    "await context.storage_state(path=\"browser_context.json\")\n",
    "\n",
    "if browser:\n",
    "    await browser.close()\n",
    "elif context:\n",
    "    await context.close()\n",
    "\n",
    "await playwright.stop()"
   ]
  },
  {
   "cell_type": "code",
   "execution_count": null,
   "metadata": {},
   "outputs": [],
   "source": [
    "page2 = await browser.new_page()"
   ]
  },
  {
   "cell_type": "code",
   "execution_count": null,
   "metadata": {},
   "outputs": [],
   "source": []
  }
 ],
 "metadata": {
  "kernelspec": {
   "display_name": "project",
   "language": "python",
   "name": "python3"
  },
  "language_info": {
   "codemirror_mode": {
    "name": "ipython",
    "version": 3
   },
   "file_extension": ".py",
   "mimetype": "text/x-python",
   "name": "python",
   "nbconvert_exporter": "python",
   "pygments_lexer": "ipython3",
   "version": "3.11.9"
  }
 },
 "nbformat": 4,
 "nbformat_minor": 2
}
