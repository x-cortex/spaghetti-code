{
 "cells": [
  {
   "cell_type": "code",
   "execution_count": 3,
   "metadata": {},
   "outputs": [
    {
     "name": "stdout",
     "output_type": "stream",
     "text": [
      "Note: you may need to restart the kernel to use updated packages.\n"
     ]
    }
   ],
   "source": [
    "%pip install --quiet -U langchain langchain_community tiktoken langchain-nomic \"nomic[local]\" langchain-ollama scikit-learn langgraph tavily-python bs4 langchain-groq"
   ]
  },
  {
   "cell_type": "code",
   "execution_count": 1,
   "metadata": {},
   "outputs": [],
   "source": [
    "import getpass\n",
    "import os\n",
    "\n",
    "os.environ[\"GROQ_API_KEY\"] = getpass.getpass()\n",
    "\n",
    "from langchain_groq import ChatGroq\n",
    "\n",
    "model = ChatGroq(model=\"llama3-8b-8192\")"
   ]
  },
  {
   "cell_type": "code",
   "execution_count": 6,
   "metadata": {},
   "outputs": [
    {
     "data": {
      "text/plain": [
       "AIMessage(content=\"DSU College is a private institution located in Bangalore, India. As a neutral AI assistant, I don't have personal opinions, but I can provide you with some general information about the college and help you make a more informed decision.\\n\\nHere are a few points to consider:\\n\\nPros:\\n\\n1. Affiliated with Ramaiah Group of Institutions: DSU College is affiliated with the Ramaiah Group of Institutions, which has a reputation for providing quality education in various fields.\\n2. Wide range of courses: The college offers a variety of undergraduate and postgraduate courses in fields like Science, Commerce, Arts, and Management.\\n3. State-of-the-art infrastructure: DSU College has modern facilities, including Wi-Fi enabled campus, air-conditioned classrooms, and well-equipped laboratories.\\n4. Location: The college is located in the heart of Bangalore, providing easy access to public transportation and other amenities.\\n5. Campus life: The college has a student-centric approach, with a focus on extracurricular activities, sports, and cultural events.\\n\\nCons:\\n\\n1. Limited international exposure: While the college has international collaborations and exchange programs, it may not have as much international exposure as some other institutions.\\n2. Competition: Bangalore is a popular destination for students, and the city has many other colleges and universities, which can make it competitive for DSU College.\\n3. Fees: The fees structure at DSU College might be slightly higher compared to some other colleges in Bangalore.\\n\\nIt's essential to research and gather more information about DSU College and its programs to make an informed decision. You may also want to consider factors like:\\n\\n* Accreditation and recognition\\n* Faculty expertise and student-faculty ratio\\n* Placement rates and industry connections\\n* Reviews and ratings from current students and alumni\\n* Campus life and extracurricular activities\\n\\nI recommend visiting the college's website, reaching out to the admissions office, or attending open days to get a better understanding of what DSU College has to offer.\", additional_kwargs={}, response_metadata={'token_usage': {'completion_tokens': 403, 'prompt_tokens': 32, 'total_tokens': 435, 'completion_time': 0.335833333, 'prompt_time': 0.004087308, 'queue_time': 0.009346611000000001, 'total_time': 0.339920641}, 'model_name': 'llama3-8b-8192', 'system_fingerprint': 'fp_179b0f92c9', 'finish_reason': 'stop', 'logprobs': None}, id='run-1bf9e79c-2184-46ea-8055-f6bab2a56ecf-0', usage_metadata={'input_tokens': 32, 'output_tokens': 403, 'total_tokens': 435})"
      ]
     },
     "execution_count": 6,
     "metadata": {},
     "output_type": "execute_result"
    }
   ],
   "source": [
    "from langchain_core.messages import HumanMessage, SystemMessage\n",
    "\n",
    "messages = [\n",
    "    SystemMessage(content=\"Answer the user's query\"),\n",
    "    HumanMessage(content=\"What do you think about DSU college in bangalore?\"),\n",
    "]\n",
    "\n",
    "model.invoke(messages)"
   ]
  },
  {
   "cell_type": "code",
   "execution_count": null,
   "metadata": {},
   "outputs": [],
   "source": []
  }
 ],
 "metadata": {
  "kernelspec": {
   "display_name": "project",
   "language": "python",
   "name": "python3"
  },
  "language_info": {
   "codemirror_mode": {
    "name": "ipython",
    "version": 3
   },
   "file_extension": ".py",
   "mimetype": "text/x-python",
   "name": "python",
   "nbconvert_exporter": "python",
   "pygments_lexer": "ipython3",
   "version": "3.11.9"
  }
 },
 "nbformat": 4,
 "nbformat_minor": 2
}
